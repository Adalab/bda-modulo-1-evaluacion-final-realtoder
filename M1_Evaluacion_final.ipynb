{
 "cells": [
  {
   "cell_type": "code",
   "execution_count": 233,
   "metadata": {},
   "outputs": [],
   "source": [
    "class TiendaOnline:  # Definimos la clase TiendaOnline, una plantilla sobre la que posteriormente moldearemos nuestra tienda ModasPaquita\n",
    "    \n",
    "    def __init__ (self,inventario = [], clientes = {}, ventas_totales = 0.0):  \n",
    "        self.inventario = inventario  # Este parámetro es una lista que, de momento, está vacía\n",
    "        self.clientes = clientes  # Este parámetro es un diccionario vacío en el que se irán acumulando los detalles de las clientes (nombre, email, compras)\n",
    "        self.ventas_totales = ventas_totales # Este parámetro se inicializa en 0.0.\n",
    "\n",
    "\n",
    "    def agregar_producto (self, nombre, precio, cantidad):\n",
    "             \n",
    "        if len(self.inventario) == 0:  \n",
    "            nuevo_producto = {\"nombre\": nombre, \"precio\": precio, \"cantidad\": cantidad}\n",
    "            self.inventario.append(nuevo_producto)\n",
    "                    \n",
    "        else:\n",
    "            for p in self.inventario: # Iteramos sobre cada producto del inventario\n",
    "                if p[\"nombre\"].lower() == nombre.lower():\n",
    "                    p[\"cantidad\"] += cantidad # Si el nombre del producto coincide, se incrementa la cantidad del producto\n",
    "                    return self.inventario\n",
    "                \n",
    "                else: # Si no encuentra un producto con el mismo nombre, lo agrega al inventario\n",
    "                    nuevo_producto = {\"nombre\": nombre, \"precio\": precio, \"cantidad\": cantidad}\n",
    "                    self.inventario.append(nuevo_producto)        \n",
    "                    return self.inventario\n",
    "        \n",
    "\n",
    "    def ver_inventario(self): \n",
    "\n",
    "        for p in self.inventario:  # Iteramos sobre cada diccionario dentro la lista\n",
    "            print(f\"nombre : {p['nombre']}, precio : ${p['precio']}, cantidad : {p['cantidad']}\") \n",
    "            # Haciendo referencia a las claves, obtenemos los valores.  \n",
    "\n",
    "\n",
    "    def buscar_producto(self, nombre):\n",
    "                \n",
    "        for p in self.inventario:\n",
    "            if p[\"nombre\"].lower() == nombre.lower():\n",
    "                print(f\"nombre: {p['nombre']} , precio: ${p['precio']}, cantidad: {p['cantidad']}\")\n",
    "                break\n",
    "            elif p[\"nombre\"].lower() != nombre.lower():\n",
    "                print(f\"El producto {nombre} no está registrado en el inventario\")\n",
    "                break\n",
    "\n",
    "\n",
    "\n",
    "    def actualizar_stock(self, nombre, cantidad):\n",
    "           \n",
    "        for p in self.inventario:\n",
    "            if p[\"nombre\"] == nombre:\n",
    "                p[\"cantidad\"] += cantidad\n",
    "                return self.inventario   # Te devuelve el inventario actualizado\n",
    "\n",
    "        print(f\"El producto {nombre} no está en el inventario, por lo que no se puede actualizar.\")  # Este print lo coloco fuera del bucle \"for\", para que no se imprima aun habiendo encontrado el producto\n",
    "        # Este print lo coloco fuera del bucle \"for\". En caso contrario, se imprimiría aun habiendo encontrado el artículo.\n",
    "\n",
    "    \n",
    "    def eliminar_producto(self, nombre):\n",
    "        for p in self.inventario:\n",
    "            if p[\"nombre\"].lower() == nombre.lower():\n",
    "                self.inventario.remove(p)  # Utilizamos el método .remove(), que quita el primer elemento de la lista con el nombre en cuestión\n",
    "                print(f\"El producto {nombre} ha sido eliminado del inventario.\")\n",
    "                return\n",
    "    \n",
    "        print(\"El producto no está en el inventario, por lo que no se puede eliminar.\") # De nuevo, colocamos este print fuera del bucle \"for\"\n",
    "\n",
    "\n",
    "    def calcular_valor_inventario(self):\n",
    "        \n",
    "        valor_inventario = 0.0  # Iniciamos el valor del inventario en 0.0 \n",
    "        \n",
    "        for p in self.inventario:\n",
    "            valor_p = p['cantidad'] * p['precio'] # Multiplicamos la cantidad de cada artículo por su precio \n",
    "            valor_inventario += valor_p # Cada valor individual resultante de la operación anterior se va sumando al total\n",
    "\n",
    "        print(f\"El valor total del inventario es $ {valor_inventario}\")\n",
    "\n",
    "\n",
    "    import re  # Importamos el módulo re, que nos permite manejar operaciones de regex\n",
    "\n",
    "    def buscar_producto_regex(self, patron):\n",
    "        productos_regex = []\n",
    "\n",
    "        for p in self.inventario:\n",
    "            if re.findall(patron, p[\"nombre\"]): # Utilizamos la función findall para encontrar todas las ocurrencias del patrón que especifiquemos al llamar a la función\n",
    "                productos_regex.append(p)\n",
    "                   \n",
    "\n",
    "        if productos_regex:  \n",
    "            for p in productos_regex:\n",
    "                #print(f\"Nombre: {p['nombre']}, Precio: {p['precio']}, Cantidad: {p['cantidad']}\")\n",
    "                print(productos_regex)\n",
    "        else:\n",
    "            print(\"No se ha encontrado en el inventario ningún producto con esta combinación de letras. Pruebe con otra combinación.\")\n",
    "\n",
    "\n",
    "    def realizar_compra (self):\n",
    "\n",
    "        seguir_comprando = True # Inicializamos la variable como True para comenzar el bucle de compra\n",
    "        carrito = [] # Y el carrito como una lista vacía\n",
    "\n",
    "        while seguir_comprando:\n",
    "            pregunta = input(\"Introduzca el nombre del producto que desea comprar\")\n",
    "            for p in self.inventario:\n",
    "                if pregunta == p[\"nombre\"]:\n",
    "                    p[\"cantidad\"] -=1 \n",
    "                    carrito.append(p)\n",
    "                    break\n",
    "            \n",
    "            decision = input(\"¿Desea seguir comprando. Escriba S o N\").lower()\n",
    "            if decision == \"s\":\n",
    "                seguir_comprando = True\n",
    "            else:\n",
    "                seguir_comprando = False # En el momento en que el usuario escriba \"N\", el bucle finalizará\n",
    "        \n",
    "        total = 0\n",
    "        lista_compra = \"\" # En esta variable (que aunque se llame lista_compra es una string), almacenamos los nombres de los productos comprados\n",
    "        for i in carrito:\n",
    "            total += i[\"precio\"]\n",
    "            lista_compra = lista_compra + i[\"nombre\"] + \" \" \n",
    "        print(f\"Ha comprado: \" + lista_compra)\n",
    "        print(f\"El total de su compra es de: ${total}\")\n",
    "\n",
    "        \n",
    "\n",
    "    def procesar_pago (self):\n",
    "        cantidad_total = float(input (\"Introduzca el importe total a pagar\")) \n",
    "        cantidad_pago = float(input (\"Intoduzca la cantidad abonada por el cliente\")) \n",
    "\n",
    "        try:\n",
    "            cambio = cantidad_pago-cantidad_total \n",
    "\n",
    "            if cambio >= 0: # Si el importe abonado es mayor o igual que la cantidad a pagar, se imprimen los detalles de la compra.\n",
    "                print(f\"Importe de la compra: ${cantidad_total}. Cantidad abonada: ${cantidad_pago}. Cambio: ${round(cambio, 2)}\") \n",
    "\n",
    "            elif cambio < 0: # En el caso de que sea menor, se avisa de que la cantidad abonada es insuficiente.\n",
    "                print(f\"No puede realizarse el pago. La cantidad abonada no es suficiente\")\n",
    "\n",
    "        except ValueError:   # Por si acaso se intorduce un caracter que no sea un dígito\n",
    "            print(f\"Valor incorrecto. Introduzca un número\")\n",
    "        \n",
    "\n",
    "\n",
    "    def agregar_cliente(self, nombre, email):\n",
    "\n",
    "        if nombre not in self.clientes.keys():\n",
    "            self.clientes[nombre]= {\"email\":email, \"compras\":[]}\n",
    "            \n",
    "        else:\n",
    "            return f\"El cliente '{nombre}' con email '{email}' ya está registrado.\"\n",
    "        \n",
    "        print(f\"Se ha añadido el cliente '{nombre}' con correo electrónico '{email}'.\")\n",
    "\n",
    "\n",
    "\n",
    "    def ver_clientes(self): \n",
    "\n",
    "        for c in self.clientes.items(): \n",
    "            print(c) \n",
    "\n",
    "\n",
    "\n",
    "    def registrar_compra(self, nombre_cliente, carrito):\n",
    "\n",
    "        if nombre_cliente not in self.clientes.keys():\n",
    "            print(f\"El cliente {nombre_cliente} no está registrado. No se puede realizar la acción.\")\n",
    "            return # Si el cliente no está registrado se interrumple la ejecución con el return\n",
    "        \n",
    "        datos_cliente = self.clientes[nombre_cliente]\n",
    "        datos_cliente[\"compras\"].append(carrito)\n",
    "        total_compra = 0.0\n",
    "\n",
    "        for nombre in carrito:\n",
    "            cantidad = carrito[nombre].get(\"cantidad\")\n",
    "            precio = carrito[nombre].get(\"precio\")\n",
    "            total_compra += precio * cantidad\n",
    "        \n",
    "        \n",
    "        print(f\"El total de la compra de {nombre_cliente} es {total_compra}. Ha comprado {carrito}\")\n",
    "        \n",
    "\n",
    "\n",
    "    def ver_compras_cliente(self, nombre_cliente): # Toma como argumento el nombred del cliente, que se utilizará para buscar las compras del cliente en particular.\n",
    "\n",
    "        if nombre_cliente not in self.clientes.keys():\n",
    "            print( f\"El cliente {nombre_cliente} no está registrado.\")\n",
    "            return\n",
    "\n",
    "        datos_cliente = self.clientes[nombre_cliente]\n",
    "        compras = datos_cliente[\"compras\"]\n",
    "        print(f\"Las compras de {nombre_cliente} son {compras}\")\n",
    "\n"
   ]
  },
  {
   "cell_type": "markdown",
   "metadata": {},
   "source": [
    "**0. Método Constructor**"
   ]
  },
  {
   "cell_type": "code",
   "execution_count": 234,
   "metadata": {},
   "outputs": [],
   "source": [
    "# Antes que nada, instanciamos el objeto ModasPaquita, que estará modelado en la clase TiendaOnline, creada anteriormente.\n",
    "ModasPaquita_inventario = []\n",
    "ModasPaquita_clientes = {}\n",
    "ModasPaquita_ventas_totales = 0.0\n",
    "ModasPaquita = TiendaOnline(ModasPaquita_inventario, ModasPaquita_clientes, ModasPaquita_ventas_totales)\n"
   ]
  },
  {
   "cell_type": "markdown",
   "metadata": {},
   "source": [
    "**1. Método agregar_producto(self, nombre, precio, cantidad)**"
   ]
  },
  {
   "cell_type": "code",
   "execution_count": 235,
   "metadata": {},
   "outputs": [
    {
     "data": {
      "text/plain": [
       "[{'nombre': 'Camisa', 'precio': 20.0, 'cantidad': 50},\n",
       " {'nombre': 'Pantalon', 'precio': 30.0, 'cantidad': 30},\n",
       " {'nombre': 'Pantis', 'precio': 5.5, 'cantidad': 20},\n",
       " {'nombre': 'Falda', 'precio': 25.5, 'cantidad': 15},\n",
       " {'nombre': 'Zapatos', 'precio': 50.0, 'cantidad': 35}]"
      ]
     },
     "execution_count": 235,
     "metadata": {},
     "output_type": "execute_result"
    }
   ],
   "source": [
    "ModasPaquita.agregar_producto(\"Camisa\", 20.00, 40) # Agregamos los productos especificados en las instrucciones\n",
    "ModasPaquita.agregar_producto(\"Pantalon\", 30.00, 30)\n",
    "ModasPaquita.agregar_producto(\"Pantis\", 5.50, 20)\n",
    "ModasPaquita.agregar_producto(\"Falda\", 25.50, 15)\n",
    "ModasPaquita.agregar_producto(\"Camisa\", 20.00, 10)  # Agregamos el producto \"camisa\" dos veces, para comprobar que se actualiza la cantidad: 40 + 10 = 50\n",
    "ModasPaquita.agregar_producto(\"Zapatos\", 50.00, 35)"
   ]
  },
  {
   "cell_type": "markdown",
   "metadata": {},
   "source": [
    "**2. Método ver_inventario(self)**"
   ]
  },
  {
   "cell_type": "code",
   "execution_count": 236,
   "metadata": {},
   "outputs": [
    {
     "name": "stdout",
     "output_type": "stream",
     "text": [
      "nombre : Camisa, precio : $20.0, cantidad : 50\n",
      "nombre : Pantalon, precio : $30.0, cantidad : 30\n",
      "nombre : Pantis, precio : $5.5, cantidad : 20\n",
      "nombre : Falda, precio : $25.5, cantidad : 15\n",
      "nombre : Zapatos, precio : $50.0, cantidad : 35\n"
     ]
    }
   ],
   "source": [
    "ModasPaquita.ver_inventario() # Nos devuelve el listado de todos los productos y sus detalles."
   ]
  },
  {
   "cell_type": "markdown",
   "metadata": {},
   "source": [
    "**3. Método buscar_producto(self, nombre)**"
   ]
  },
  {
   "cell_type": "code",
   "execution_count": 237,
   "metadata": {},
   "outputs": [
    {
     "name": "stdout",
     "output_type": "stream",
     "text": [
      "El producto Calcetines no está registrado en el inventario\n"
     ]
    }
   ],
   "source": [
    "ModasPaquita.buscar_producto(\"Calcetines\") # Buscamos el producto \"Calcetines\". Como no está registrado, aparece el mensaje de que no está en el inventario."
   ]
  },
  {
   "cell_type": "code",
   "execution_count": 198,
   "metadata": {},
   "outputs": [
    {
     "name": "stdout",
     "output_type": "stream",
     "text": [
      "nombre: Camisa , precio: $20.0, cantidad: 50\n"
     ]
    }
   ],
   "source": [
    "ModasPaquita.buscar_producto(\"Camisa\") # En cambio, el producto \"Camisas\" sí lo está, por lo que se imprimen los detalles."
   ]
  },
  {
   "cell_type": "markdown",
   "metadata": {},
   "source": [
    "**4. Método actualizar_stock(self, nombre, cantidad)**"
   ]
  },
  {
   "cell_type": "code",
   "execution_count": 238,
   "metadata": {},
   "outputs": [
    {
     "data": {
      "text/plain": [
       "[{'nombre': 'Camisa', 'precio': 20.0, 'cantidad': 50},\n",
       " {'nombre': 'Pantalon', 'precio': 30.0, 'cantidad': 30},\n",
       " {'nombre': 'Pantis', 'precio': 5.5, 'cantidad': 20},\n",
       " {'nombre': 'Falda', 'precio': 25.5, 'cantidad': 15},\n",
       " {'nombre': 'Zapatos', 'precio': 50.0, 'cantidad': 50}]"
      ]
     },
     "execution_count": 238,
     "metadata": {},
     "output_type": "execute_result"
    }
   ],
   "source": [
    "ModasPaquita.actualizar_stock(\"Zapatos\", 15)  # Probamos a sumar 15 zapatos. Había 35 y hemos añadido 15, por lo que aparece una cantidad total de 50."
   ]
  },
  {
   "cell_type": "code",
   "execution_count": 239,
   "metadata": {},
   "outputs": [
    {
     "data": {
      "text/plain": [
       "[{'nombre': 'Camisa', 'precio': 20.0, 'cantidad': 50},\n",
       " {'nombre': 'Pantalon', 'precio': 30.0, 'cantidad': 30},\n",
       " {'nombre': 'Pantis', 'precio': 5.5, 'cantidad': 20},\n",
       " {'nombre': 'Falda', 'precio': 25.5, 'cantidad': 15},\n",
       " {'nombre': 'Zapatos', 'precio': 50.0, 'cantidad': 35}]"
      ]
     },
     "execution_count": 239,
     "metadata": {},
     "output_type": "execute_result"
    }
   ],
   "source": [
    "ModasPaquita.actualizar_stock(\"Zapatos\", -15) # A continuación, los quitamos para comprobar que se actualiza también al restar. La cantidad vuelve a ser 35."
   ]
  },
  {
   "cell_type": "code",
   "execution_count": 240,
   "metadata": {},
   "outputs": [
    {
     "name": "stdout",
     "output_type": "stream",
     "text": [
      "El producto Calcetines no está en el inventario, por lo que no se puede actualizar.\n"
     ]
    }
   ],
   "source": [
    "ModasPaquita.actualizar_stock(\"Calcetines\", 5) # Por último, probamos a actualizar un producto que no está en el inventario. Nos avisa de que no se puede actualizar."
   ]
  },
  {
   "cell_type": "markdown",
   "metadata": {},
   "source": [
    "**5. Método eliminar_producto(self, nombre)**"
   ]
  },
  {
   "cell_type": "code",
   "execution_count": 241,
   "metadata": {},
   "outputs": [
    {
     "name": "stdout",
     "output_type": "stream",
     "text": [
      "nombre : Camisa, precio : $20.0, cantidad : 50\n",
      "nombre : Pantalon, precio : $30.0, cantidad : 30\n",
      "nombre : Pantis, precio : $5.5, cantidad : 20\n",
      "nombre : Falda, precio : $25.5, cantidad : 15\n",
      "nombre : Zapatos, precio : $50.0, cantidad : 35\n"
     ]
    }
   ],
   "source": [
    "ModasPaquita.ver_inventario() # Primero, llamamos a la función ver_inventario() para ver de qué productos disponemos."
   ]
  },
  {
   "cell_type": "code",
   "execution_count": 242,
   "metadata": {},
   "outputs": [
    {
     "name": "stdout",
     "output_type": "stream",
     "text": [
      "El producto Falda ha sido eliminado del inventario.\n"
     ]
    }
   ],
   "source": [
    "ModasPaquita.eliminar_producto(\"Falda\") # Eliminamos el producto \"Falda\", que está en el inventario."
   ]
  },
  {
   "cell_type": "code",
   "execution_count": 243,
   "metadata": {},
   "outputs": [
    {
     "name": "stdout",
     "output_type": "stream",
     "text": [
      "nombre : Camisa, precio : $20.0, cantidad : 50\n",
      "nombre : Pantalon, precio : $30.0, cantidad : 30\n",
      "nombre : Pantis, precio : $5.5, cantidad : 20\n",
      "nombre : Zapatos, precio : $50.0, cantidad : 35\n"
     ]
    }
   ],
   "source": [
    "ModasPaquita.ver_inventario() # Para asegurarnos de que el elemento se ha eliminado correctamente, volvemos a llamar a la función ver_inventario(). Efectivamente, ha sido eliminado."
   ]
  },
  {
   "cell_type": "code",
   "execution_count": 244,
   "metadata": {},
   "outputs": [
    {
     "name": "stdout",
     "output_type": "stream",
     "text": [
      "El producto no está en el inventario, por lo que no se puede eliminar.\n"
     ]
    }
   ],
   "source": [
    "ModasPaquita.eliminar_producto(\"Calcetines\") # Cuando intentamos eliminar \"Calcetines\", nos dice que no figura en el inventario, por lo que no lo puede borrar."
   ]
  },
  {
   "cell_type": "markdown",
   "metadata": {},
   "source": [
    "**6. Método calcular_valor_inventario(self)**"
   ]
  },
  {
   "cell_type": "code",
   "execution_count": 245,
   "metadata": {},
   "outputs": [
    {
     "name": "stdout",
     "output_type": "stream",
     "text": [
      "El valor total del inventario es $ 3760.0\n"
     ]
    }
   ],
   "source": [
    "ModasPaquita.calcular_valor_inventario() # Devuelve el valor total del inventario después de todas las operaciones anteriormente efectuadas."
   ]
  },
  {
   "cell_type": "markdown",
   "metadata": {},
   "source": [
    "**7. Método buscar_producto_regex(self, patron)**"
   ]
  },
  {
   "cell_type": "code",
   "execution_count": 246,
   "metadata": {},
   "outputs": [
    {
     "name": "stdout",
     "output_type": "stream",
     "text": [
      "[{'nombre': 'Camisa', 'precio': 20.0, 'cantidad': 50}]\n"
     ]
    }
   ],
   "source": [
    "import re\n",
    "ModasPaquita.buscar_producto_regex(\"ami\") # Buscamos productos que contengan las letras especificadas. "
   ]
  },
  {
   "cell_type": "code",
   "execution_count": 247,
   "metadata": {},
   "outputs": [
    {
     "name": "stdout",
     "output_type": "stream",
     "text": [
      "[{'nombre': 'Zapatos', 'precio': 50.0, 'cantidad': 35}]\n"
     ]
    }
   ],
   "source": [
    "ModasPaquita.buscar_producto_regex(\"ato\") # En este caso, buscamos productos que tengan las letras \"ato\"."
   ]
  },
  {
   "cell_type": "code",
   "execution_count": 248,
   "metadata": {},
   "outputs": [
    {
     "name": "stdout",
     "output_type": "stream",
     "text": [
      "No se ha encontrado en el inventario ningún producto con esta combinación de letras. Pruebe con otra combinación.\n"
     ]
    }
   ],
   "source": [
    "ModasPaquita.buscar_producto_regex(\"cet\") # Esta combinación de letras no arroja resultados. Solo el siguiente mensaje:"
   ]
  },
  {
   "cell_type": "markdown",
   "metadata": {},
   "source": [
    "**8. Método realizar_compra(self):**"
   ]
  },
  {
   "cell_type": "code",
   "execution_count": 249,
   "metadata": {},
   "outputs": [
    {
     "name": "stdout",
     "output_type": "stream",
     "text": [
      "Ha comprado: Pantis Camisa \n",
      "El total de su compra es de: $25.5\n"
     ]
    }
   ],
   "source": [
    "ModasPaquita.realizar_compra() # Compramos, por ejemplo, \"Pantis\" y a continuación, respondemos que sí a la pregunta de si queremos seguir comprando. Añadimos \"Camisa\" y obtenemos el precio total de la compra."
   ]
  },
  {
   "cell_type": "markdown",
   "metadata": {},
   "source": [
    "**9. Método procesar_pago(self)**"
   ]
  },
  {
   "cell_type": "code",
   "execution_count": 250,
   "metadata": {},
   "outputs": [
    {
     "name": "stdout",
     "output_type": "stream",
     "text": [
      "Importe de la compra: $25.5. Cantidad abonada: $50.0. Cambio: $24.5\n"
     ]
    }
   ],
   "source": [
    "ModasPaquita.procesar_pago() # Indicamos el importe de la compra en la celda anterior (25.50) y un importe superior de dinero abonado (por ejemplo, 50) para comprobar que indica bien el cambio."
   ]
  },
  {
   "cell_type": "markdown",
   "metadata": {},
   "source": [
    "**10. Método agregar_cliente(self, nombre, email)**"
   ]
  },
  {
   "cell_type": "code",
   "execution_count": 251,
   "metadata": {},
   "outputs": [
    {
     "name": "stdout",
     "output_type": "stream",
     "text": [
      "Se ha añadido el cliente 'Heidi' con correo electrónico 'heidi@email.com'.\n",
      "Se ha añadido el cliente 'Stacey' con correo electrónico 'stacey@email.com'.\n",
      "Se ha añadido el cliente 'Siri' con correo electrónico 'siri@email.com'.\n"
     ]
    }
   ],
   "source": [
    "ModasPaquita.agregar_cliente(\"Heidi\", \"heidi@email.com\") # Agregamos tres nuevos clientes\n",
    "ModasPaquita.agregar_cliente(\"Stacey\", \"stacey@email.com\")\n",
    "ModasPaquita.agregar_cliente(\"Siri\", \"siri@email.com\")\n"
   ]
  },
  {
   "cell_type": "code",
   "execution_count": 252,
   "metadata": {},
   "outputs": [
    {
     "data": {
      "text/plain": [
       "\"El cliente 'Heidi' con email 'Heidi@email.com' ya está registrado.\""
      ]
     },
     "execution_count": 252,
     "metadata": {},
     "output_type": "execute_result"
    }
   ],
   "source": [
    "ModasPaquita.agregar_cliente(\"Heidi\", \"Heidi@email.com\") # Si, posteriormente, intentamos agregar el mismo de nuevo, nos avisa de que ya está en la base de datos."
   ]
  },
  {
   "cell_type": "markdown",
   "metadata": {},
   "source": [
    "**11. Método ver_clientes(self)**"
   ]
  },
  {
   "cell_type": "code",
   "execution_count": 253,
   "metadata": {},
   "outputs": [
    {
     "name": "stdout",
     "output_type": "stream",
     "text": [
      "('Heidi', {'email': 'heidi@email.com', 'compras': []})\n",
      "('Stacey', {'email': 'stacey@email.com', 'compras': []})\n",
      "('Siri', {'email': 'siri@email.com', 'compras': []})\n"
     ]
    }
   ],
   "source": [
    "ModasPaquita.ver_clientes() "
   ]
  },
  {
   "cell_type": "markdown",
   "metadata": {},
   "source": [
    "**12. Método registrar_compra(self, nombre_cliente, carrito)**"
   ]
  },
  {
   "cell_type": "code",
   "execution_count": 254,
   "metadata": {},
   "outputs": [
    {
     "name": "stdout",
     "output_type": "stream",
     "text": [
      "El total de la compra de Heidi es 140.0. Ha comprado {'Camisa': {'precio': 20, 'cantidad': 3}, 'Pantalon': {'precio': 40, 'cantidad': 2}}\n",
      "_______\n",
      "El cliente Jon no está registrado. No se puede realizar la acción.\n",
      "_______\n"
     ]
    }
   ],
   "source": [
    "carrito_cliente1 = {\"Camisa\": {\"precio\": 20, \"cantidad\": 3}, \"Pantalon\": {\"precio\": 40, \"cantidad\": 2}}\n",
    "ModasPaquita.registrar_compra(\"Heidi\", carrito_cliente1)\n",
    "\n",
    "\n",
    "print(\"_______\")\n",
    "\n",
    "carrito_cliente2 = {\"Zapatos\": {\"precio\": 50, \"cantidad\": 1}}\n",
    "ModasPaquita.registrar_compra(\"Jon\", carrito_cliente2)\n",
    "\n",
    "print(\"_______\")\n",
    "\n"
   ]
  },
  {
   "cell_type": "markdown",
   "metadata": {},
   "source": [
    "**13. Método ver_compras_cliente(self, nombre_cliente)**"
   ]
  },
  {
   "cell_type": "code",
   "execution_count": 255,
   "metadata": {},
   "outputs": [
    {
     "name": "stdout",
     "output_type": "stream",
     "text": [
      "Las compras de Heidi son [{'Camisa': {'precio': 20, 'cantidad': 3}, 'Pantalon': {'precio': 40, 'cantidad': 2}}]\n"
     ]
    }
   ],
   "source": [
    "ModasPaquita.ver_compras_cliente(\"Heidi\") # Comprobamos las compras de Heidi, la clienta que realizó la compra en el paso anterior."
   ]
  },
  {
   "cell_type": "code",
   "execution_count": 256,
   "metadata": {},
   "outputs": [
    {
     "name": "stdout",
     "output_type": "stream",
     "text": [
      "Las compras de Siri son []\n"
     ]
    }
   ],
   "source": [
    "ModasPaquita.ver_compras_cliente(\"Siri\") # Comprobamos las de otra clienta registrada. Como no ha realizado ninguna compra, aparece una lista vacía."
   ]
  },
  {
   "cell_type": "code",
   "execution_count": 257,
   "metadata": {},
   "outputs": [
    {
     "name": "stdout",
     "output_type": "stream",
     "text": [
      "El cliente Gavin no está registrado.\n"
     ]
    }
   ],
   "source": [
    "ModasPaquita.ver_compras_cliente(\"Gavin\") # Por último, comprobamos las de un cliente no registrado. "
   ]
  }
 ],
 "metadata": {
  "kernelspec": {
   "display_name": "base",
   "language": "python",
   "name": "python3"
  },
  "language_info": {
   "codemirror_mode": {
    "name": "ipython",
    "version": 3
   },
   "file_extension": ".py",
   "mimetype": "text/x-python",
   "name": "python",
   "nbconvert_exporter": "python",
   "pygments_lexer": "ipython3",
   "version": "3.9.7"
  }
 },
 "nbformat": 4,
 "nbformat_minor": 2
}
